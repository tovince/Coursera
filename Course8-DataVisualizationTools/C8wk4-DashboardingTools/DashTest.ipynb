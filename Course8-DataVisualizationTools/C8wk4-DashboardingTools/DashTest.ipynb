{
 "cells": [
  {
   "cell_type": "code",
   "execution_count": 3,
   "metadata": {},
   "outputs": [
    {
     "data": {
      "text/html": [
       "\n",
       "        <iframe\n",
       "            width=\"100%\"\n",
       "            height=\"650\"\n",
       "            src=\"http://127.0.0.1:8050/\"\n",
       "            frameborder=\"0\"\n",
       "            allowfullscreen\n",
       "            \n",
       "        ></iframe>\n",
       "        "
      ],
      "text/plain": [
       "<IPython.lib.display.IFrame at 0x1ad80623ca0>"
      ]
     },
     "metadata": {},
     "output_type": "display_data"
    }
   ],
   "source": [
    "# Import required packages\n",
    "import pandas as pd\n",
    "import plotly.express as px\n",
    "import dash\n",
    "from dash import dcc\n",
    "from dash import html\n",
    "\n",
    "# Read the airline data into pandas dataframe\n",
    "airline_data =  pd.read_csv('https://cf-courses-data.s3.us.cloud-object-storage.appdomain.cloud/IBMDeveloperSkillsNetwork-DV0101EN-SkillsNetwork/Data%20Files/airline_data.csv', \n",
    "                            encoding = \"ISO-8859-1\",\n",
    "                            dtype={'Div1Airport': str, 'Div1TailNum': str, \n",
    "                                   'Div2Airport': str, 'Div2TailNum': str})\n",
    "\n",
    "# Randomly sample 500 data points. Setting the random state to be 42 so that we get same result.\n",
    "data = airline_data.sample(n=500, random_state=42)\n",
    "\n",
    "# Pie Chart Creation\n",
    "fig = px.pie(data, values='Flights', names='DistanceGroup', title='Distance group proportion by flights')\n",
    "\n",
    "# Create a dash application\n",
    "app = dash.Dash(__name__)\n",
    "\n",
    "# Get the layout of the application and adjust it.\n",
    "# Create an outer division using html.Div and add title to the dashboard using html.H1 component\n",
    "# Add description about the graph using HTML P (paragraph) component\n",
    "# Finally, add graph component.\n",
    "app.layout = html.Div(children=[html.H1('Airline On-time Performance Dashboard', style={'textAlign': 'center', 'color': '#503D36', 'font-size': 40}),\n",
    "                                html.P('Proportion of distance group (250 mile distance interval group) by flights.', style={'textAlign':'center', 'color': '#F57241'}),\n",
    "                                dcc.Graph(figure=fig),\n",
    "                                               \n",
    "                    ])\n",
    "\n",
    "# Run the application                   \n",
    "if __name__ == '__main__':\n",
    "    app.run_server()"
   ]
  },
  {
   "cell_type": "code",
   "execution_count": null,
   "metadata": {},
   "outputs": [],
   "source": []
  },
  {
   "cell_type": "code",
   "execution_count": null,
   "metadata": {},
   "outputs": [],
   "source": []
  }
 ],
 "metadata": {
  "kernelspec": {
   "display_name": "Dash",
   "language": "python",
   "name": "dash"
  },
  "language_info": {
   "codemirror_mode": {
    "name": "ipython",
    "version": 3
   },
   "file_extension": ".py",
   "mimetype": "text/x-python",
   "name": "python",
   "nbconvert_exporter": "python",
   "pygments_lexer": "ipython3",
   "version": "3.10.11"
  }
 },
 "nbformat": 4,
 "nbformat_minor": 4
}
